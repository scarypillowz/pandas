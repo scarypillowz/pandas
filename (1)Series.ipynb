{
 "cells": [
  {
   "cell_type": "markdown",
   "id": "727ac816",
   "metadata": {},
   "source": [
    "# 🚩 Series에 대해서\n",
    "## 주요 토픽\n",
    "1. Pandas Series Basics\n",
    "2. 인덱싱\n",
    "3. 정렬과 필터링\n",
    "4. 연산과 집계\n",
    "5. 결측값 처리\n",
    "6. 커스텀 함수 적용\n",
    "## 목표\n",
    "- Series와 넘파이 배열의 관계 이해하기\n",
    "- Series의 loc, iloc 메서드 사용해서 값 조회하기\n",
    "- Series의 정렬/필터링/집계 기능 사용하기\n",
    "- Series에 조건부 로직을 사용하는 커스텀 함수 적용하기"
   ]
  },
  {
   "cell_type": "code",
   "execution_count": 1,
   "id": "12890fe2",
   "metadata": {},
   "outputs": [],
   "source": [
    "import numpy as np\n",
    "import pandas as pd"
   ]
  },
  {
   "cell_type": "markdown",
   "id": "68dbe89e",
   "metadata": {},
   "source": [
    "## 1. Series란?\n",
    "- 넘파이 배열에 기반한 판다스 자료구조이다.\n",
    "- 2개 이상의 Series가 모이면 데이터프레임을 구성한다.\n",
    "- 반드시 1차원 배열 형태여야 한다.\n",
    "### > 속성\n",
    "1. values (Series의 데이터)\n",
    "2. index (Series의 인덱스)\n",
    "3. name (데이터프레임 열에 접근할 때 유용)\n",
    "4. dtype (values array에 들어있는 데이터들의 타입)"
   ]
  },
  {
   "cell_type": "code",
   "execution_count": 2,
   "id": "b58e45c9",
   "metadata": {},
   "outputs": [
    {
     "data": {
      "text/plain": [
       "0       0\n",
       "1       5\n",
       "2     155\n",
       "3       0\n",
       "4     518\n",
       "5       0\n",
       "6    1827\n",
       "Name: Sales, dtype: int64"
      ]
     },
     "execution_count": 2,
     "metadata": {},
     "output_type": "execute_result"
    }
   ],
   "source": [
    "sales = [0, 5, 155, 0, 518, 0, 1827]\n",
    "sales_series = pd.Series(sales, name='Sales')\n",
    "sales_series"
   ]
  },
  {
   "cell_type": "code",
   "execution_count": 3,
   "id": "db9b4041",
   "metadata": {},
   "outputs": [
    {
     "name": "stdout",
     "output_type": "stream",
     "text": [
      "values:  [   0    5  155    0  518    0 1827]\n",
      "index:  RangeIndex(start=0, stop=7, step=1)\n",
      "name:  Sales\n",
      "dtype:  int64\n"
     ]
    }
   ],
   "source": [
    "# 속성\n",
    "print('values: ', sales_series.values)\n",
    "print('index: ', sales_series.index)\n",
    "print('name: ', sales_series.name)\n",
    "print('dtype: ', sales_series.dtype)"
   ]
  },
  {
   "cell_type": "markdown",
   "id": "8e317ab4",
   "metadata": {},
   "source": [
    "## 2. 판다스 데이터 타입\n",
    "### > Numeric\n",
    "1. boolean - Nullable boolean True(1)/False(0)\n",
    "2. Int64(디폴트) - Nullable whole numbers\n",
    "3. Float64(디폴트) - Nullable decimal numbers\n",
    "### > Object/Text\n",
    "1. string\n",
    "2. category - \n",
    "### > Time Series\n",
    "1. datetime64 - Single moment in time\n",
    "2. timedelta - Duration between two dates or times\n",
    "3. period - Span of time"
   ]
  },
  {
   "cell_type": "markdown",
   "id": "96bd739e",
   "metadata": {},
   "source": [
    "## 3. Series 인덱싱\n",
    "### > 일반적인 인덱싱\n",
    "- 파이썬 리스트와 넘파이식 인덱싱/슬라이싱을 통해 값에 대한 접근이 가능하다\n",
    "### > 커스텀 인덱싱\n",
    "- Series를 생성하면서 index 매개변수를 사용하는 방법이다\n",
    "- ✅ 문자열 인덱스인 경우 슬라이싱 범위상 끝점을 포함한다\n",
    "- ✅ datetimes 사용할 때 유용하다"
   ]
  },
  {
   "cell_type": "code",
   "execution_count": 4,
   "id": "3dd4c52f",
   "metadata": {},
   "outputs": [
    {
     "data": {
      "text/plain": [
       "coffee       0\n",
       "banana       5\n",
       "tea        155\n",
       "coconut      0\n",
       "sugar      518\n",
       "Name: Sales, dtype: int64"
      ]
     },
     "execution_count": 4,
     "metadata": {},
     "output_type": "execute_result"
    }
   ],
   "source": [
    "# 커스텀 인덱싱\n",
    "sales = [0, 5, 155, 0, 518]\n",
    "items = ['coffee', 'banana', 'tea', 'coconut', 'sugar']\n",
    "\n",
    "# sales_series = pd.Series(sales, name='Sales')\n",
    "# sales_series.index = items\n",
    "# sales_series\n",
    "\n",
    "sales_series = pd.Series(sales, index=items, name='Sales')\n",
    "sales_series"
   ]
  },
  {
   "cell_type": "code",
   "execution_count": 5,
   "id": "6ed9b1b0",
   "metadata": {},
   "outputs": [
    {
     "data": {
      "text/plain": [
       "banana       5\n",
       "tea        155\n",
       "coconut      0\n",
       "Name: Sales, dtype: int64"
      ]
     },
     "execution_count": 5,
     "metadata": {},
     "output_type": "execute_result"
    }
   ],
   "source": [
    "# 커스텀 인덱싱\n",
    "sales_series['banana':'coconut']"
   ]
  },
  {
   "cell_type": "markdown",
   "id": "1a890f18",
   "metadata": {},
   "source": [
    "### > iloc 접근자\n",
    "- 대상값이 위치하고 있는 인덱스를 사용해 값에 대한 접근이 가능하다\n",
    "    - access values by their positional index\n",
    "    - 커스텀 인덱스를 설정하더라도 사용이 가능하다\n",
    "    - 슬라이싱 보다 효율적이며 판다스 개발자들이 권장하는 방법이다\n",
    "- loc 접근자보다는 덜 자주 사용한다."
   ]
  },
  {
   "cell_type": "code",
   "execution_count": 6,
   "id": "b7f74a2c",
   "metadata": {},
   "outputs": [
    {
     "data": {
      "text/plain": [
       "day 0    0\n",
       "day 1    1\n",
       "day 2    2\n",
       "day 3    3\n",
       "day 4    4\n",
       "dtype: int64"
      ]
     },
     "execution_count": 6,
     "metadata": {},
     "output_type": "execute_result"
    }
   ],
   "source": [
    "my_series = pd.Series(\n",
    "    [0, 1, 2, 3, 4], index=['day 0', 'day 1', 'day 2', 'day 3', 'day 4']\n",
    ")\n",
    "my_series"
   ]
  },
  {
   "cell_type": "code",
   "execution_count": 7,
   "id": "6bd3f0f8",
   "metadata": {},
   "outputs": [
    {
     "data": {
      "text/plain": [
       "2"
      ]
     },
     "execution_count": 7,
     "metadata": {},
     "output_type": "execute_result"
    }
   ],
   "source": [
    "my_series.iloc[2]"
   ]
  },
  {
   "cell_type": "code",
   "execution_count": 8,
   "id": "e99936f2",
   "metadata": {},
   "outputs": [
    {
     "data": {
      "text/plain": [
       "day 1    1\n",
       "day 4    4\n",
       "dtype: int64"
      ]
     },
     "execution_count": 8,
     "metadata": {},
     "output_type": "execute_result"
    }
   ],
   "source": [
    "my_series.iloc[[1, 4]]"
   ]
  },
  {
   "cell_type": "code",
   "execution_count": 9,
   "id": "afd2e40f",
   "metadata": {},
   "outputs": [
    {
     "data": {
      "text/plain": [
       "day 1    1\n",
       "day 2    2\n",
       "day 3    3\n",
       "day 4    4\n",
       "dtype: int64"
      ]
     },
     "execution_count": 9,
     "metadata": {},
     "output_type": "execute_result"
    }
   ],
   "source": [
    "my_series.iloc[1:]"
   ]
  },
  {
   "cell_type": "markdown",
   "id": "eea73fb0",
   "metadata": {},
   "source": [
    "### > loc 접근자\n",
    "- 커스텀 레이블을 사용해 값에 대한 접근이 가능하다\n",
    "    - Label-base (NOT positional index)\n",
    "- iloc 접근자보다 자주 사용한다"
   ]
  },
  {
   "cell_type": "code",
   "execution_count": 10,
   "id": "cae2a9e5",
   "metadata": {},
   "outputs": [
    {
     "data": {
      "text/plain": [
       "day 0    0\n",
       "day 1    1\n",
       "day 2    2\n",
       "day 3    3\n",
       "day 4    4\n",
       "dtype: int64"
      ]
     },
     "execution_count": 10,
     "metadata": {},
     "output_type": "execute_result"
    }
   ],
   "source": [
    "my_series = pd.Series(\n",
    "    [0, 1, 2, 3, 4], index=['day 0', 'day 1', 'day 2', 'day 3', 'day 4']\n",
    ")\n",
    "my_series"
   ]
  },
  {
   "cell_type": "code",
   "execution_count": 11,
   "id": "232f1b92",
   "metadata": {},
   "outputs": [
    {
     "data": {
      "text/plain": [
       "2"
      ]
     },
     "execution_count": 11,
     "metadata": {},
     "output_type": "execute_result"
    }
   ],
   "source": [
    "my_series.loc['day 2']"
   ]
  },
  {
   "cell_type": "code",
   "execution_count": 12,
   "id": "ab944697",
   "metadata": {},
   "outputs": [
    {
     "data": {
      "text/plain": [
       "day 1    1\n",
       "day 2    2\n",
       "day 3    3\n",
       "dtype: int64"
      ]
     },
     "execution_count": 12,
     "metadata": {},
     "output_type": "execute_result"
    }
   ],
   "source": [
    "# 양끝 범위를 포함\n",
    "my_series.loc['day 1':'day 3']"
   ]
  },
  {
   "cell_type": "markdown",
   "id": "78d2acd4",
   "metadata": {},
   "source": [
    "### > 중복 인덱스\n",
    "- 판다스 Series나 DataFrame은 중복 인덱스를 가질 수 있다\n",
    "    - loc 접근자로 중복 인덱스를 사용하면 중복되는 값들에 대해 모두 접근한다\n",
    "    - Which is NOT desirable → 고유 인덱스를 갖도록 설정해야 한다\n",
    "    - Must have unique row identifier\n",
    "### > 인덱스 재설정\n",
    "- reset_index 메서드 (디폴트로 리셋 전 인덱스는 데이터프레임의 새로운 컬럼이 된다)\n",
    "- 원본 Series를 변경하지 않는다"
   ]
  },
  {
   "cell_type": "code",
   "execution_count": 13,
   "id": "0b9ebfff",
   "metadata": {},
   "outputs": [
    {
     "data": {
      "text/plain": [
       "Index(['day 0', 'day 0', 'day 0', 'day 2', 'day 2'], dtype='object')"
      ]
     },
     "execution_count": 13,
     "metadata": {},
     "output_type": "execute_result"
    }
   ],
   "source": [
    "my_series = pd.Series(\n",
    "    [0, 1, 2, 3, 4],\n",
    "    index=['day 0', 'day 0', 'day 0', 'day 2', 'day 2']\n",
    ")\n",
    "my_series.index"
   ]
  },
  {
   "cell_type": "code",
   "execution_count": 14,
   "id": "a2e67f3f",
   "metadata": {},
   "outputs": [
    {
     "data": {
      "text/plain": [
       "day 0    0\n",
       "day 0    1\n",
       "day 0    2\n",
       "dtype: int64"
      ]
     },
     "execution_count": 14,
     "metadata": {},
     "output_type": "execute_result"
    }
   ],
   "source": [
    "my_series.loc['day 0']"
   ]
  },
  {
   "cell_type": "code",
   "execution_count": 15,
   "id": "aed82066",
   "metadata": {},
   "outputs": [
    {
     "data": {
      "text/plain": [
       "day 2    3\n",
       "day 2    4\n",
       "dtype: int64"
      ]
     },
     "execution_count": 15,
     "metadata": {},
     "output_type": "execute_result"
    }
   ],
   "source": [
    "my_series.loc['day 2']"
   ]
  },
  {
   "cell_type": "code",
   "execution_count": 16,
   "id": "146f8700",
   "metadata": {},
   "outputs": [
    {
     "data": {
      "text/html": [
       "<div>\n",
       "<style scoped>\n",
       "    .dataframe tbody tr th:only-of-type {\n",
       "        vertical-align: middle;\n",
       "    }\n",
       "\n",
       "    .dataframe tbody tr th {\n",
       "        vertical-align: top;\n",
       "    }\n",
       "\n",
       "    .dataframe thead th {\n",
       "        text-align: right;\n",
       "    }\n",
       "</style>\n",
       "<table border=\"1\" class=\"dataframe\">\n",
       "  <thead>\n",
       "    <tr style=\"text-align: right;\">\n",
       "      <th></th>\n",
       "      <th>index</th>\n",
       "      <th>0</th>\n",
       "    </tr>\n",
       "  </thead>\n",
       "  <tbody>\n",
       "    <tr>\n",
       "      <th>0</th>\n",
       "      <td>day 0</td>\n",
       "      <td>0</td>\n",
       "    </tr>\n",
       "    <tr>\n",
       "      <th>1</th>\n",
       "      <td>day 0</td>\n",
       "      <td>1</td>\n",
       "    </tr>\n",
       "    <tr>\n",
       "      <th>2</th>\n",
       "      <td>day 0</td>\n",
       "      <td>2</td>\n",
       "    </tr>\n",
       "    <tr>\n",
       "      <th>3</th>\n",
       "      <td>day 2</td>\n",
       "      <td>3</td>\n",
       "    </tr>\n",
       "    <tr>\n",
       "      <th>4</th>\n",
       "      <td>day 2</td>\n",
       "      <td>4</td>\n",
       "    </tr>\n",
       "  </tbody>\n",
       "</table>\n",
       "</div>"
      ],
      "text/plain": [
       "   index  0\n",
       "0  day 0  0\n",
       "1  day 0  1\n",
       "2  day 0  2\n",
       "3  day 2  3\n",
       "4  day 2  4"
      ]
     },
     "execution_count": 16,
     "metadata": {},
     "output_type": "execute_result"
    }
   ],
   "source": [
    "# 기존 인덱스 열이 데이터프레임의 새로운 열을 구성한다.\n",
    "my_series.reset_index()"
   ]
  },
  {
   "cell_type": "code",
   "execution_count": 17,
   "id": "2288a051",
   "metadata": {},
   "outputs": [
    {
     "data": {
      "text/plain": [
       "0    0\n",
       "1    1\n",
       "2    2\n",
       "3    3\n",
       "4    4\n",
       "dtype: int64"
      ]
     },
     "execution_count": 17,
     "metadata": {},
     "output_type": "execute_result"
    }
   ],
   "source": [
    "my_series.reset_index(drop=True)"
   ]
  },
  {
   "cell_type": "code",
   "execution_count": 18,
   "id": "2b58c49e",
   "metadata": {},
   "outputs": [
    {
     "data": {
      "text/plain": [
       "2    2\n",
       "3    3\n",
       "dtype: int64"
      ]
     },
     "execution_count": 18,
     "metadata": {},
     "output_type": "execute_result"
    }
   ],
   "source": [
    "my_series.reset_index(drop=True).iloc[2:4]"
   ]
  },
  {
   "cell_type": "code",
   "execution_count": 19,
   "id": "aaf487dc",
   "metadata": {},
   "outputs": [
    {
     "data": {
      "text/plain": [
       "2    2\n",
       "3    3\n",
       "4    4\n",
       "dtype: int64"
      ]
     },
     "execution_count": 19,
     "metadata": {},
     "output_type": "execute_result"
    }
   ],
   "source": [
    "# iloc 접근자와의 차이점 (끝점을 포함한다)\n",
    "my_series.reset_index(drop=True).loc[2:4]"
   ]
  },
  {
   "cell_type": "markdown",
   "id": "40261a9e",
   "metadata": {},
   "source": [
    "## 4. Series 필터링\n",
    "### > loc 접근자\n",
    "- 비교연산자를 함께 사용하면 Series를 필터링 할 수 있다\n",
    "    - ✅ 연산자를 사용하면 불리언 배열을 리턴한다\n",
    "### > isin\n",
    "- ✅ 불리언 배열을 리턴한다\n",
    "    - in: .isin()\n",
    "    - not in: ~.isin()\n",
    "- Series에 대해서 in, not in 연산자는 사용이 불가능하다"
   ]
  },
  {
   "cell_type": "code",
   "execution_count": 20,
   "id": "73107332",
   "metadata": {},
   "outputs": [
    {
     "data": {
      "text/plain": [
       "day 0    0\n",
       "day 1    1\n",
       "day 2    2\n",
       "day 3    3\n",
       "day 4    4\n",
       "dtype: int64"
      ]
     },
     "execution_count": 20,
     "metadata": {},
     "output_type": "execute_result"
    }
   ],
   "source": [
    "my_series = pd.Series(\n",
    "    [0, 1, 2, 3, 4], index=['day 0', 'day 1', 'day 2', 'day 3', 'day 4']\n",
    ")\n",
    "my_series"
   ]
  },
  {
   "cell_type": "code",
   "execution_count": 21,
   "id": "f61f9a2f",
   "metadata": {},
   "outputs": [
    {
     "data": {
      "text/plain": [
       "day 0    False\n",
       "day 1    False\n",
       "day 2     True\n",
       "day 3    False\n",
       "day 4    False\n",
       "dtype: bool"
      ]
     },
     "execution_count": 21,
     "metadata": {},
     "output_type": "execute_result"
    }
   ],
   "source": [
    "my_series == 2"
   ]
  },
  {
   "cell_type": "code",
   "execution_count": 22,
   "id": "0d000bde",
   "metadata": {},
   "outputs": [
    {
     "data": {
      "text/plain": [
       "day 3    3\n",
       "day 4    4\n",
       "dtype: int64"
      ]
     },
     "execution_count": 22,
     "metadata": {},
     "output_type": "execute_result"
    }
   ],
   "source": [
    "my_series.loc[my_series > 2]"
   ]
  },
  {
   "cell_type": "code",
   "execution_count": 23,
   "id": "f32e8020",
   "metadata": {},
   "outputs": [
    {
     "data": {
      "text/plain": [
       "day 2    2\n",
       "dtype: int64"
      ]
     },
     "execution_count": 23,
     "metadata": {},
     "output_type": "execute_result"
    }
   ],
   "source": [
    "my_series.loc[my_series == 2]"
   ]
  },
  {
   "cell_type": "code",
   "execution_count": 24,
   "id": "9b8031c3",
   "metadata": {},
   "outputs": [
    {
     "data": {
      "text/plain": [
       "day 2    2\n",
       "dtype: int64"
      ]
     },
     "execution_count": 24,
     "metadata": {},
     "output_type": "execute_result"
    }
   ],
   "source": [
    "my_series.loc[~(my_series != 2)]"
   ]
  },
  {
   "cell_type": "code",
   "execution_count": 25,
   "id": "bb5110fe",
   "metadata": {},
   "outputs": [
    {
     "data": {
      "text/plain": [
       "day 1    1\n",
       "day 2    2\n",
       "dtype: int64"
      ]
     },
     "execution_count": 25,
     "metadata": {},
     "output_type": "execute_result"
    }
   ],
   "source": [
    "my_series.loc[my_series.isin([1, 2])]"
   ]
  },
  {
   "cell_type": "code",
   "execution_count": 26,
   "id": "242da4a7",
   "metadata": {},
   "outputs": [
    {
     "data": {
      "text/plain": [
       "day 0    0\n",
       "day 3    3\n",
       "day 4    4\n",
       "dtype: int64"
      ]
     },
     "execution_count": 26,
     "metadata": {},
     "output_type": "execute_result"
    }
   ],
   "source": [
    "my_series.loc[~my_series.isin([1, 2])]"
   ]
  },
  {
   "cell_type": "markdown",
   "id": "52e01ff1",
   "metadata": {},
   "source": [
    "## 5. Series 정렬\n",
    "- 2가지 정렬 기준\n",
    "    1. by 값 (sort_values 메서드)\n",
    "    2. by 인덱스 (sort_index 메서드)\n",
    "- 원본 Series를 변경하지 않는다"
   ]
  },
  {
   "cell_type": "code",
   "execution_count": 27,
   "id": "446c0034",
   "metadata": {},
   "outputs": [
    {
     "data": {
      "text/plain": [
       "day 0    1\n",
       "day 1    0\n",
       "day 2    2\n",
       "day 3    3\n",
       "day 4    4\n",
       "dtype: int64"
      ]
     },
     "execution_count": 27,
     "metadata": {},
     "output_type": "execute_result"
    }
   ],
   "source": [
    "my_series = pd.Series(\n",
    "    [1, 0, 2, 3, 4], index=['day 0', 'day 1', 'day 2', 'day 3', 'day 4']\n",
    ")\n",
    "my_series"
   ]
  },
  {
   "cell_type": "code",
   "execution_count": 28,
   "id": "96b032c6",
   "metadata": {},
   "outputs": [
    {
     "data": {
      "text/plain": [
       "day 1    0\n",
       "day 0    1\n",
       "day 2    2\n",
       "day 3    3\n",
       "day 4    4\n",
       "dtype: int64"
      ]
     },
     "execution_count": 28,
     "metadata": {},
     "output_type": "execute_result"
    }
   ],
   "source": [
    "my_series.sort_values()"
   ]
  },
  {
   "cell_type": "code",
   "execution_count": 29,
   "id": "b52e0872",
   "metadata": {},
   "outputs": [
    {
     "data": {
      "text/plain": [
       "day 4    4\n",
       "day 3    3\n",
       "day 2    2\n",
       "day 0    1\n",
       "day 1    0\n",
       "dtype: int64"
      ]
     },
     "execution_count": 29,
     "metadata": {},
     "output_type": "execute_result"
    }
   ],
   "source": [
    "my_series = my_series.sort_values(ascending=False)\n",
    "my_series"
   ]
  },
  {
   "cell_type": "code",
   "execution_count": 30,
   "id": "ac08acd7",
   "metadata": {},
   "outputs": [
    {
     "data": {
      "text/plain": [
       "day 4    4\n",
       "day 3    3\n",
       "day 2    2\n",
       "day 0    1\n",
       "day 1    0\n",
       "dtype: int64"
      ]
     },
     "execution_count": 30,
     "metadata": {},
     "output_type": "execute_result"
    }
   ],
   "source": [
    "my_series"
   ]
  },
  {
   "cell_type": "code",
   "execution_count": 31,
   "id": "33f1a4df",
   "metadata": {},
   "outputs": [
    {
     "data": {
      "text/plain": [
       "day 0    1\n",
       "day 1    0\n",
       "day 2    2\n",
       "day 3    3\n",
       "day 4    4\n",
       "dtype: int64"
      ]
     },
     "execution_count": 31,
     "metadata": {},
     "output_type": "execute_result"
    }
   ],
   "source": [
    "my_series.sort_index()"
   ]
  },
  {
   "cell_type": "code",
   "execution_count": 32,
   "id": "2444b67a",
   "metadata": {},
   "outputs": [
    {
     "data": {
      "text/plain": [
       "day 4    4\n",
       "day 3    3\n",
       "day 2    2\n",
       "day 1    0\n",
       "day 0    1\n",
       "dtype: int64"
      ]
     },
     "execution_count": 32,
     "metadata": {},
     "output_type": "execute_result"
    }
   ],
   "source": [
    "my_series.sort_index(ascending=False)"
   ]
  },
  {
   "cell_type": "markdown",
   "id": "363e5f5c",
   "metadata": {},
   "source": [
    "## 6. Series 연산\n",
    "### > 수학 연산\n",
    "- Numeric Operation\n",
    "- 사칙연산(+, -, /, *), 몫(//), 나머지(%), 지수(**)"
   ]
  },
  {
   "cell_type": "code",
   "execution_count": 33,
   "id": "7f9a04af",
   "metadata": {},
   "outputs": [
    {
     "data": {
      "text/plain": [
       "day 0    1.0\n",
       "day 1    NaN\n",
       "day 2    2.0\n",
       "day 3    3.0\n",
       "day 4    4.0\n",
       "dtype: float64"
      ]
     },
     "execution_count": 33,
     "metadata": {},
     "output_type": "execute_result"
    }
   ],
   "source": [
    "my_series = pd.Series(\n",
    "    [1, np.NaN, 2, 3, 4], index=['day 0', 'day 1', 'day 2', 'day 3', 'day 4']\n",
    ")\n",
    "my_series"
   ]
  },
  {
   "cell_type": "code",
   "execution_count": 34,
   "id": "0048f0ad",
   "metadata": {},
   "outputs": [
    {
     "data": {
      "text/plain": [
       "day 0    2.0\n",
       "day 1    NaN\n",
       "day 2    3.0\n",
       "day 3    4.0\n",
       "day 4    5.0\n",
       "dtype: float64"
      ]
     },
     "execution_count": 34,
     "metadata": {},
     "output_type": "execute_result"
    }
   ],
   "source": [
    "my_series + 1"
   ]
  },
  {
   "cell_type": "code",
   "execution_count": 35,
   "id": "59e7f848",
   "metadata": {},
   "outputs": [
    {
     "data": {
      "text/plain": [
       "day 0    2\n",
       "day 1    1\n",
       "day 2    3\n",
       "day 3    4\n",
       "day 4    5\n",
       "dtype: int64"
      ]
     },
     "execution_count": 35,
     "metadata": {},
     "output_type": "execute_result"
    }
   ],
   "source": [
    "my_series2 = my_series.add(1, fill_value=0).astype('int')\n",
    "my_series2"
   ]
  },
  {
   "cell_type": "markdown",
   "id": "883efe86",
   "metadata": {},
   "source": [
    "### > Text Series 연산\n",
    "- str 접근자를 통해 문자열 메서드를 사용할 수 있다\n",
    "- 메서드 종류\n",
    "    - strip, lstrip, rstrip\n",
    "    - upper, lower\n",
    "    - slice\n",
    "    - count\n",
    "    - contains\n",
    "    - replace\n",
    "    - split\n",
    "    - len\n",
    "    - startswith, endswith\n",
    "- ✅ Pro Tips\n",
    "    1. contains 메서드를 통해 특정 문자열을 검색하는 경우\n",
    "        - 사전에 모든 문자열을 소문자화 혹은 대문자화 해놓는다"
   ]
  },
  {
   "cell_type": "code",
   "execution_count": 36,
   "id": "1efce2c9",
   "metadata": {},
   "outputs": [
    {
     "data": {
      "text/plain": [
       "0    day 0\n",
       "1    day 1\n",
       "2    day 2\n",
       "3    day 3\n",
       "4    day 4\n",
       "dtype: object"
      ]
     },
     "execution_count": 36,
     "metadata": {},
     "output_type": "execute_result"
    }
   ],
   "source": [
    "str_series = pd.Series(['day 0', 'day 1', 'day 2', 'day 3', 'day 4'])\n",
    "str_series"
   ]
  },
  {
   "cell_type": "code",
   "execution_count": 37,
   "id": "88946fd3",
   "metadata": {},
   "outputs": [
    {
     "data": {
      "text/plain": [
       "0    DAY 0\n",
       "1    DAY 1\n",
       "2    DAY 2\n",
       "3    DAY 3\n",
       "4    DAY 4\n",
       "dtype: object"
      ]
     },
     "execution_count": 37,
     "metadata": {},
     "output_type": "execute_result"
    }
   ],
   "source": [
    "str_series.str.upper()"
   ]
  },
  {
   "cell_type": "code",
   "execution_count": 38,
   "id": "68a45020",
   "metadata": {},
   "outputs": [
    {
     "data": {
      "text/plain": [
       "0    False\n",
       "1    False\n",
       "2    False\n",
       "3    False\n",
       "4    False\n",
       "dtype: bool"
      ]
     },
     "execution_count": 38,
     "metadata": {},
     "output_type": "execute_result"
    }
   ],
   "source": [
    "str_series.str.upper().str.contains('day 1')"
   ]
  },
  {
   "cell_type": "code",
   "execution_count": 39,
   "id": "5e23d38d",
   "metadata": {},
   "outputs": [
    {
     "data": {
      "text/plain": [
       "0    False\n",
       "1     True\n",
       "2    False\n",
       "3    False\n",
       "4    False\n",
       "dtype: bool"
      ]
     },
     "execution_count": 39,
     "metadata": {},
     "output_type": "execute_result"
    }
   ],
   "source": [
    "str_series.str.upper().str.contains('DAY 1')"
   ]
  },
  {
   "cell_type": "code",
   "execution_count": 40,
   "id": "e35ae6e6",
   "metadata": {},
   "outputs": [
    {
     "data": {
      "text/plain": [
       "0    0\n",
       "1    1\n",
       "2    2\n",
       "3    3\n",
       "4    4\n",
       "dtype: int64"
      ]
     },
     "execution_count": 40,
     "metadata": {},
     "output_type": "execute_result"
    }
   ],
   "source": [
    "str_series.str.strip('day ').astype('int')"
   ]
  },
  {
   "cell_type": "code",
   "execution_count": 41,
   "id": "7564219d",
   "metadata": {},
   "outputs": [
    {
     "data": {
      "text/plain": [
       "0    0\n",
       "1    1\n",
       "2    2\n",
       "3    3\n",
       "4    4\n",
       "dtype: int64"
      ]
     },
     "execution_count": 41,
     "metadata": {},
     "output_type": "execute_result"
    }
   ],
   "source": [
    "# strip 메서드보다 슬라이싱을 사용\n",
    "str_series.str[-1].astype('int')"
   ]
  },
  {
   "cell_type": "code",
   "execution_count": 42,
   "id": "26131803",
   "metadata": {},
   "outputs": [
    {
     "data": {
      "text/plain": [
       "0    ay\n",
       "1    ay\n",
       "2    ay\n",
       "3    ay\n",
       "4    ay\n",
       "dtype: object"
      ]
     },
     "execution_count": 42,
     "metadata": {},
     "output_type": "execute_result"
    }
   ],
   "source": [
    "str_series.str[1:3]"
   ]
  },
  {
   "cell_type": "code",
   "execution_count": 43,
   "id": "83ba9e92",
   "metadata": {},
   "outputs": [
    {
     "data": {
      "text/plain": [
       "0    [day, 0]\n",
       "1    [day, 1]\n",
       "2    [day, 2]\n",
       "3    [day, 3]\n",
       "4    [day, 4]\n",
       "dtype: object"
      ]
     },
     "execution_count": 43,
     "metadata": {},
     "output_type": "execute_result"
    }
   ],
   "source": [
    "str_series.str.split(' ')"
   ]
  },
  {
   "cell_type": "code",
   "execution_count": 44,
   "id": "c01b30da",
   "metadata": {},
   "outputs": [
    {
     "data": {
      "text/html": [
       "<div>\n",
       "<style scoped>\n",
       "    .dataframe tbody tr th:only-of-type {\n",
       "        vertical-align: middle;\n",
       "    }\n",
       "\n",
       "    .dataframe tbody tr th {\n",
       "        vertical-align: top;\n",
       "    }\n",
       "\n",
       "    .dataframe thead th {\n",
       "        text-align: right;\n",
       "    }\n",
       "</style>\n",
       "<table border=\"1\" class=\"dataframe\">\n",
       "  <thead>\n",
       "    <tr style=\"text-align: right;\">\n",
       "      <th></th>\n",
       "      <th>0</th>\n",
       "      <th>1</th>\n",
       "    </tr>\n",
       "  </thead>\n",
       "  <tbody>\n",
       "    <tr>\n",
       "      <th>0</th>\n",
       "      <td>day</td>\n",
       "      <td>0</td>\n",
       "    </tr>\n",
       "    <tr>\n",
       "      <th>1</th>\n",
       "      <td>day</td>\n",
       "      <td>1</td>\n",
       "    </tr>\n",
       "    <tr>\n",
       "      <th>2</th>\n",
       "      <td>day</td>\n",
       "      <td>2</td>\n",
       "    </tr>\n",
       "    <tr>\n",
       "      <th>3</th>\n",
       "      <td>day</td>\n",
       "      <td>3</td>\n",
       "    </tr>\n",
       "    <tr>\n",
       "      <th>4</th>\n",
       "      <td>day</td>\n",
       "      <td>4</td>\n",
       "    </tr>\n",
       "  </tbody>\n",
       "</table>\n",
       "</div>"
      ],
      "text/plain": [
       "     0  1\n",
       "0  day  0\n",
       "1  day  1\n",
       "2  day  2\n",
       "3  day  3\n",
       "4  day  4"
      ]
     },
     "execution_count": 44,
     "metadata": {},
     "output_type": "execute_result"
    }
   ],
   "source": [
    "str_series.str.split(' ', expand=True)"
   ]
  },
  {
   "cell_type": "markdown",
   "id": "96aa2e00",
   "metadata": {},
   "source": [
    "## 7. Series 종류별 집계 연산\n",
    "### > 숫자 타입 Series\n",
    "- 메서드 종류\n",
    "    - count\n",
    "    - first, last\n",
    "    - mean, median, min, max, argmax, argmin, std, var, mad\n",
    "    - prod, sum, quantile"
   ]
  },
  {
   "cell_type": "code",
   "execution_count": 45,
   "id": "2d3f8e74",
   "metadata": {},
   "outputs": [
    {
     "data": {
      "text/plain": [
       "0     770\n",
       "1    2111\n",
       "2    2358\n",
       "3    3487\n",
       "4    1922\n",
       "Name: transactions, dtype: int64"
      ]
     },
     "execution_count": 45,
     "metadata": {},
     "output_type": "execute_result"
    }
   ],
   "source": [
    "transactions = pd.read_csv('./data/retail/transactions.csv')\n",
    "transactions_series = pd.Series(transactions['transactions'])\n",
    "\n",
    "transactions_series.iloc[:5]"
   ]
  },
  {
   "cell_type": "code",
   "execution_count": 46,
   "id": "d92ec296",
   "metadata": {},
   "outputs": [
    {
     "data": {
      "text/plain": [
       "0.4    2111\n",
       "Name: transactions, dtype: int64"
      ]
     },
     "execution_count": 46,
     "metadata": {},
     "output_type": "execute_result"
    }
   ],
   "source": [
    "# interpolation 옵션을 지정하면 실제 데이터 중에서 리턴\n",
    "transactions_series.iloc[:5].quantile([.4], interpolation='nearest')"
   ]
  },
  {
   "cell_type": "code",
   "execution_count": 47,
   "id": "3c73a36d",
   "metadata": {},
   "outputs": [
    {
     "data": {
      "text/plain": [
       "83488"
      ]
     },
     "execution_count": 47,
     "metadata": {},
     "output_type": "execute_result"
    }
   ],
   "source": [
    "transactions_series.count()"
   ]
  },
  {
   "cell_type": "code",
   "execution_count": 48,
   "id": "93a62d25",
   "metadata": {},
   "outputs": [
    {
     "data": {
      "text/plain": [
       "141478945"
      ]
     },
     "execution_count": 48,
     "metadata": {},
     "output_type": "execute_result"
    }
   ],
   "source": [
    "transactions_series.sum()"
   ]
  },
  {
   "cell_type": "markdown",
   "id": "78d5abf5",
   "metadata": {},
   "source": [
    "### > 범주형 타입 Series\n",
    "- 메서드 종류\n",
    "    - unique, nunique, value_counts"
   ]
  },
  {
   "cell_type": "code",
   "execution_count": 49,
   "id": "a458e56c",
   "metadata": {},
   "outputs": [
    {
     "data": {
      "text/plain": [
       "0    day 0\n",
       "1    day 0\n",
       "2    day 2\n",
       "3    day 2\n",
       "4    day 4\n",
       "dtype: object"
      ]
     },
     "execution_count": 49,
     "metadata": {},
     "output_type": "execute_result"
    }
   ],
   "source": [
    "series = pd.Series(['day 0', 'day 0', 'day 2', 'day 2', 'day 4'])\n",
    "series"
   ]
  },
  {
   "cell_type": "code",
   "execution_count": 50,
   "id": "2ee56f43",
   "metadata": {},
   "outputs": [
    {
     "data": {
      "text/plain": [
       "3"
      ]
     },
     "execution_count": 50,
     "metadata": {},
     "output_type": "execute_result"
    }
   ],
   "source": [
    "series.nunique()"
   ]
  },
  {
   "cell_type": "code",
   "execution_count": 51,
   "id": "20e8d09c",
   "metadata": {},
   "outputs": [
    {
     "data": {
      "text/plain": [
       "array(['day 0', 'day 2', 'day 4'], dtype=object)"
      ]
     },
     "execution_count": 51,
     "metadata": {},
     "output_type": "execute_result"
    }
   ],
   "source": [
    "series.unique()"
   ]
  },
  {
   "cell_type": "code",
   "execution_count": 52,
   "id": "5782d7f5",
   "metadata": {},
   "outputs": [
    {
     "data": {
      "text/plain": [
       "numpy.ndarray"
      ]
     },
     "execution_count": 52,
     "metadata": {},
     "output_type": "execute_result"
    }
   ],
   "source": [
    "type(series.unique())"
   ]
  },
  {
   "cell_type": "code",
   "execution_count": 53,
   "id": "4119465a",
   "metadata": {},
   "outputs": [
    {
     "data": {
      "text/plain": [
       "day 0    2\n",
       "day 2    2\n",
       "day 4    1\n",
       "dtype: int64"
      ]
     },
     "execution_count": 53,
     "metadata": {},
     "output_type": "execute_result"
    }
   ],
   "source": [
    "series.value_counts()"
   ]
  },
  {
   "cell_type": "code",
   "execution_count": 54,
   "id": "d999bd3c",
   "metadata": {},
   "outputs": [
    {
     "data": {
      "text/plain": [
       "day 0    0.4\n",
       "day 2    0.4\n",
       "day 4    0.2\n",
       "dtype: float64"
      ]
     },
     "execution_count": 54,
     "metadata": {},
     "output_type": "execute_result"
    }
   ],
   "source": [
    "series.value_counts(normalize=True)"
   ]
  },
  {
   "cell_type": "markdown",
   "id": "f7bcdda7",
   "metadata": {},
   "source": [
    "## 8. Series 결측값\n",
    "### > Numpy NaN\n",
    "- 파이썬 None보다 효율적이다\n",
    "- 판다스는 NaN을 float으로 취급한다 (벡터 연산이 가능하다)\n",
    "### > 결측값 찾기\n",
    "- 메서드 종류\n",
    "    - isna (결측값이면 True 아니면 False를 리턴) → 마스킹\n",
    "    - value_counts\n",
    "        - dropna 매개변수 (True/False): 결측값 유지 여부\n",
    "### > 결측값 다루기\n",
    "- 메서드 종류\n",
    "    - dropna (Series, DataFrame의 결측값을 제거)\n",
    "    - fillna (결측값을 특정값으로 대체)\n",
    "        - 숫자형 보다는 범주형/문자 데이터와 친화적이다\n",
    "- 결측값을 어떻게 다룰 것인가?\n",
    "    - 제거? 대체?\n",
    "    - 전체 데이터 중 결측값의 개수를 우선 파악!"
   ]
  },
  {
   "cell_type": "code",
   "execution_count": 55,
   "id": "f7de28fa",
   "metadata": {},
   "outputs": [
    {
     "data": {
      "text/plain": [
       "0   NaN\n",
       "1   NaN\n",
       "2   NaN\n",
       "3   NaN\n",
       "4   NaN\n",
       "dtype: float64"
      ]
     },
     "execution_count": 55,
     "metadata": {},
     "output_type": "execute_result"
    }
   ],
   "source": [
    "my_series = pd.Series([np.NaN] * 5)\n",
    "my_series"
   ]
  },
  {
   "cell_type": "code",
   "execution_count": 56,
   "id": "19d7fe1f",
   "metadata": {},
   "outputs": [
    {
     "data": {
      "text/plain": [
       "0    True\n",
       "1    True\n",
       "2    True\n",
       "3    True\n",
       "4    True\n",
       "dtype: bool"
      ]
     },
     "execution_count": 56,
     "metadata": {},
     "output_type": "execute_result"
    }
   ],
   "source": [
    "my_series.isna()"
   ]
  },
  {
   "cell_type": "code",
   "execution_count": 57,
   "id": "ae585545",
   "metadata": {},
   "outputs": [
    {
     "data": {
      "text/plain": [
       "5"
      ]
     },
     "execution_count": 57,
     "metadata": {},
     "output_type": "execute_result"
    }
   ],
   "source": [
    "my_series.isna().sum()"
   ]
  },
  {
   "cell_type": "code",
   "execution_count": 58,
   "id": "5c92b77d",
   "metadata": {},
   "outputs": [
    {
     "data": {
      "text/plain": [
       "0    0.0\n",
       "1    NaN\n",
       "2    NaN\n",
       "3    3.0\n",
       "4    4.0\n",
       "dtype: float64"
      ]
     },
     "execution_count": 58,
     "metadata": {},
     "output_type": "execute_result"
    }
   ],
   "source": [
    "my_series = pd.Series(range(5))\n",
    "my_series.loc[1:2] = np.NaN\n",
    "my_series"
   ]
  },
  {
   "cell_type": "code",
   "execution_count": 59,
   "id": "85badcad",
   "metadata": {},
   "outputs": [
    {
     "data": {
      "text/plain": [
       "0    False\n",
       "1     True\n",
       "2     True\n",
       "3    False\n",
       "4    False\n",
       "dtype: bool"
      ]
     },
     "execution_count": 59,
     "metadata": {},
     "output_type": "execute_result"
    }
   ],
   "source": [
    "my_series.isna()"
   ]
  },
  {
   "cell_type": "code",
   "execution_count": 60,
   "id": "8fd7802e",
   "metadata": {},
   "outputs": [
    {
     "data": {
      "text/plain": [
       "NaN    2\n",
       "0.0    1\n",
       "3.0    1\n",
       "4.0    1\n",
       "dtype: int64"
      ]
     },
     "execution_count": 60,
     "metadata": {},
     "output_type": "execute_result"
    }
   ],
   "source": [
    "my_series.value_counts(dropna=False)"
   ]
  },
  {
   "cell_type": "code",
   "execution_count": 61,
   "id": "2e0b5e95",
   "metadata": {},
   "outputs": [
    {
     "data": {
      "text/plain": [
       "0    0.0\n",
       "1    0.0\n",
       "2    0.0\n",
       "3    3.0\n",
       "4    4.0\n",
       "dtype: float64"
      ]
     },
     "execution_count": 61,
     "metadata": {},
     "output_type": "execute_result"
    }
   ],
   "source": [
    "my_series.fillna(0)"
   ]
  },
  {
   "cell_type": "code",
   "execution_count": 62,
   "id": "464caf59",
   "metadata": {},
   "outputs": [
    {
     "data": {
      "text/plain": [
       "0    0.000000\n",
       "1    2.333333\n",
       "2    2.333333\n",
       "3    3.000000\n",
       "4    4.000000\n",
       "dtype: float64"
      ]
     },
     "execution_count": 62,
     "metadata": {},
     "output_type": "execute_result"
    }
   ],
   "source": [
    "my_series.fillna(my_series.mean())"
   ]
  },
  {
   "cell_type": "code",
   "execution_count": 63,
   "id": "0678109f",
   "metadata": {},
   "outputs": [
    {
     "data": {
      "text/plain": [
       "0    0.0\n",
       "3    3.0\n",
       "4    4.0\n",
       "dtype: float64"
      ]
     },
     "execution_count": 63,
     "metadata": {},
     "output_type": "execute_result"
    }
   ],
   "source": [
    "my_series.dropna()"
   ]
  },
  {
   "cell_type": "code",
   "execution_count": 64,
   "id": "86e11a81",
   "metadata": {},
   "outputs": [
    {
     "data": {
      "text/plain": [
       "0    0.0\n",
       "1    3.0\n",
       "2    4.0\n",
       "dtype: float64"
      ]
     },
     "execution_count": 64,
     "metadata": {},
     "output_type": "execute_result"
    }
   ],
   "source": [
    "my_series.dropna().reset_index(drop=True)"
   ]
  }
 ],
 "metadata": {
  "kernelspec": {
   "display_name": "Python 3 (ipykernel)",
   "language": "python",
   "name": "python3"
  },
  "language_info": {
   "codemirror_mode": {
    "name": "ipython",
    "version": 3
   },
   "file_extension": ".py",
   "mimetype": "text/x-python",
   "name": "python",
   "nbconvert_exporter": "python",
   "pygments_lexer": "ipython3",
   "version": "3.10.9"
  }
 },
 "nbformat": 4,
 "nbformat_minor": 5
}
