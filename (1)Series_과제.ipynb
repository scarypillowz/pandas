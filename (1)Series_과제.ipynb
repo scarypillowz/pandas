{
 "cells": [
  {
   "cell_type": "code",
   "execution_count": 1,
   "id": "6aac593e",
   "metadata": {},
   "outputs": [],
   "source": [
    "import numpy as np\n",
    "import pandas as pd"
   ]
  },
  {
   "cell_type": "markdown",
   "id": "08209b1a",
   "metadata": {},
   "source": [
    "# 📚 과제 1: Series Basics "
   ]
  },
  {
   "cell_type": "code",
   "execution_count": 2,
   "id": "9acb56d1",
   "metadata": {},
   "outputs": [
    {
     "data": {
      "text/plain": [
       "array([52.22, 51.44, 51.98, 52.01, 52.82, 54.01, 53.8 , 53.75, 52.36,\n",
       "       53.26, 53.77, 53.98, 51.95, 50.82, 52.19, 53.01, 52.36, 52.45,\n",
       "       51.12, 51.39, 52.33, 52.77, 52.38, 52.14, 53.24, 53.18, 52.63,\n",
       "       52.75, 53.9 , 53.55, 53.81, 53.01, 52.19, 52.37, 52.99, 53.84,\n",
       "       52.96, 53.21, 53.11, 53.41, 53.41, 54.02, 53.61, 54.48, 53.99,\n",
       "       54.04, 54.  , 53.82, 52.63, 53.33, 53.19, 52.68, 49.83, 48.75,\n",
       "       48.05, 47.95, 47.24, 48.34, 48.3 , 48.34, 47.79, 47.02, 47.29,\n",
       "       47.  , 47.3 , 47.02, 48.36, 49.47, 50.3 , 50.54, 50.25, 50.99,\n",
       "       51.14, 51.69, 52.25, 53.06, 53.38, 53.12, 53.19, 52.62, 52.46,\n",
       "       50.49, 50.26, 49.64, 48.9 , 49.22, 49.22, 48.96, 49.31, 48.83,\n",
       "       47.65, 47.79, 45.55, 46.23, 46.46, 45.84, 47.28, 47.81, 47.83,\n",
       "       48.86])"
      ]
     },
     "execution_count": 2,
     "metadata": {},
     "output_type": "execute_result"
    }
   ],
   "source": [
    "oil = pd.read_csv('./data/retail/oil.csv').dropna()\n",
    "oil_array = np.array(oil['dcoilwtico'].iloc[1000: 1100])\n",
    "oil_array"
   ]
  },
  {
   "cell_type": "markdown",
   "id": "25bb741f",
   "metadata": {},
   "source": [
    "### 풀이"
   ]
  },
  {
   "cell_type": "code",
   "execution_count": 3,
   "id": "c5b660a9",
   "metadata": {},
   "outputs": [
    {
     "name": "stdout",
     "output_type": "stream",
     "text": [
      "name:  oil_prices\n",
      "dtype:  float64\n",
      "size:  100\n",
      "index:  RangeIndex(start=0, stop=100, step=1)\n"
     ]
    }
   ],
   "source": [
    "oil_series = pd.Series(oil_array, name='oil_prices')\n",
    "\n",
    "print('name: ', oil_series.name)\n",
    "print('dtype: ', oil_series.dtype)\n",
    "print('size: ', oil_series.size)\n",
    "print('index: ', oil_series.index)"
   ]
  },
  {
   "cell_type": "code",
   "execution_count": 4,
   "id": "cc25cb75",
   "metadata": {},
   "outputs": [
    {
     "name": "stdout",
     "output_type": "stream",
     "text": [
      "mean(float):  51.128299999999996\n",
      "mean(int):  50.66\n"
     ]
    }
   ],
   "source": [
    "print('mean(float): ', oil_series.mean())\n",
    "print('mean(int): ', oil_series.astype('int').mean())"
   ]
  },
  {
   "cell_type": "markdown",
   "id": "77aaf816",
   "metadata": {},
   "source": [
    "# 📚 과제 2: Series 값에 대한 접근"
   ]
  },
  {
   "cell_type": "code",
   "execution_count": 5,
   "id": "905314bb",
   "metadata": {},
   "outputs": [
    {
     "data": {
      "text/plain": [
       "array(['2016-12-20', '2016-12-21', '2016-12-22', '2016-12-23',\n",
       "       '2016-12-27', '2016-12-28', '2016-12-29', '2016-12-30',\n",
       "       '2017-01-03', '2017-01-04', '2017-01-05', '2017-01-06',\n",
       "       '2017-01-09', '2017-01-10', '2017-01-11', '2017-01-12',\n",
       "       '2017-01-13', '2017-01-17', '2017-01-18', '2017-01-19',\n",
       "       '2017-01-20', '2017-01-23', '2017-01-24', '2017-01-25',\n",
       "       '2017-01-26', '2017-01-27', '2017-01-30', '2017-01-31',\n",
       "       '2017-02-01', '2017-02-02', '2017-02-03', '2017-02-06',\n",
       "       '2017-02-07', '2017-02-08', '2017-02-09', '2017-02-10',\n",
       "       '2017-02-13', '2017-02-14', '2017-02-15', '2017-02-16',\n",
       "       '2017-02-17', '2017-02-21', '2017-02-22', '2017-02-23',\n",
       "       '2017-02-24', '2017-02-27', '2017-02-28', '2017-03-01',\n",
       "       '2017-03-02', '2017-03-03', '2017-03-06', '2017-03-07',\n",
       "       '2017-03-08', '2017-03-09', '2017-03-10', '2017-03-13',\n",
       "       '2017-03-14', '2017-03-15', '2017-03-16', '2017-03-17',\n",
       "       '2017-03-20', '2017-03-21', '2017-03-22', '2017-03-23',\n",
       "       '2017-03-24', '2017-03-27', '2017-03-28', '2017-03-29',\n",
       "       '2017-03-30', '2017-03-31', '2017-04-03', '2017-04-04',\n",
       "       '2017-04-05', '2017-04-06', '2017-04-07', '2017-04-10',\n",
       "       '2017-04-11', '2017-04-12', '2017-04-13', '2017-04-17',\n",
       "       '2017-04-18', '2017-04-19', '2017-04-20', '2017-04-21',\n",
       "       '2017-04-24', '2017-04-25', '2017-04-26', '2017-04-27',\n",
       "       '2017-04-28', '2017-05-01', '2017-05-02', '2017-05-03',\n",
       "       '2017-05-04', '2017-05-05', '2017-05-08', '2017-05-09',\n",
       "       '2017-05-10', '2017-05-11', '2017-05-12', '2017-05-15'],\n",
       "      dtype=object)"
      ]
     },
     "execution_count": 5,
     "metadata": {},
     "output_type": "execute_result"
    }
   ],
   "source": [
    "dates = np.array(oil['date'].iloc[1000:1100])\n",
    "dates"
   ]
  },
  {
   "cell_type": "code",
   "execution_count": 6,
   "id": "6378893f",
   "metadata": {},
   "outputs": [
    {
     "data": {
      "text/plain": [
       "0     52.22\n",
       "1     51.44\n",
       "2     51.98\n",
       "3     52.01\n",
       "4     52.82\n",
       "      ...  \n",
       "95    45.84\n",
       "96    47.28\n",
       "97    47.81\n",
       "98    47.83\n",
       "99    48.86\n",
       "Name: oil_prices, Length: 100, dtype: float64"
      ]
     },
     "execution_count": 6,
     "metadata": {},
     "output_type": "execute_result"
    }
   ],
   "source": [
    "oil_series"
   ]
  },
  {
   "cell_type": "code",
   "execution_count": 7,
   "id": "720fca4f",
   "metadata": {},
   "outputs": [
    {
     "data": {
      "text/plain": [
       "2016-12-20    52.22\n",
       "2016-12-21    51.44\n",
       "2016-12-22    51.98\n",
       "2016-12-23    52.01\n",
       "2016-12-27    52.82\n",
       "Name: oil_prices, dtype: float64"
      ]
     },
     "execution_count": 7,
     "metadata": {},
     "output_type": "execute_result"
    }
   ],
   "source": [
    "oil_series.index = dates\n",
    "oil_series.head()"
   ]
  },
  {
   "cell_type": "code",
   "execution_count": 8,
   "id": "c555638f",
   "metadata": {},
   "outputs": [
    {
     "data": {
      "text/plain": [
       "52.765"
      ]
     },
     "execution_count": 8,
     "metadata": {},
     "output_type": "execute_result"
    }
   ],
   "source": [
    "oil_series.iloc[:10].mean()"
   ]
  },
  {
   "cell_type": "code",
   "execution_count": 9,
   "id": "56c43d31",
   "metadata": {},
   "outputs": [
    {
     "data": {
      "text/plain": [
       "47.13"
      ]
     },
     "execution_count": 9,
     "metadata": {},
     "output_type": "execute_result"
    }
   ],
   "source": [
    "oil_series.iloc[-10:].mean()"
   ]
  },
  {
   "cell_type": "code",
   "execution_count": 10,
   "id": "974a7b99",
   "metadata": {},
   "outputs": [
    {
     "data": {
      "text/plain": [
       "0    52.36\n",
       "1    53.26\n",
       "2    53.77\n",
       "3    53.98\n",
       "Name: oil_prices, dtype: float64"
      ]
     },
     "execution_count": 10,
     "metadata": {},
     "output_type": "execute_result"
    }
   ],
   "source": [
    "oil_series.loc['2017-01-01':'2017-01-07'].reset_index(drop=True)"
   ]
  },
  {
   "cell_type": "markdown",
   "id": "869c8cdc",
   "metadata": {},
   "source": [
    "# 📚 과제 3: Series 필터링과 정렬"
   ]
  },
  {
   "cell_type": "code",
   "execution_count": 11,
   "id": "8454ac64",
   "metadata": {},
   "outputs": [
    {
     "data": {
      "text/plain": [
       "2017-05-04    45.55\n",
       "2017-05-09    45.84\n",
       "2017-05-05    46.23\n",
       "2017-05-08    46.46\n",
       "2017-03-23    47.00\n",
       "2017-03-21    47.02\n",
       "2017-03-27    47.02\n",
       "2017-03-14    47.24\n",
       "2017-05-10    47.28\n",
       "2017-03-22    47.29\n",
       "Name: oil_prices, dtype: float64"
      ]
     },
     "execution_count": 11,
     "metadata": {},
     "output_type": "execute_result"
    }
   ],
   "source": [
    "# 10 Lowest Price\n",
    "oil_series.sort_values().iloc[:10]"
   ]
  },
  {
   "cell_type": "code",
   "execution_count": 12,
   "id": "a6dad729",
   "metadata": {},
   "outputs": [
    {
     "data": {
      "text/plain": [
       "2017-05-10    47.28\n",
       "2017-05-09    45.84\n",
       "2017-05-08    46.46\n",
       "2017-05-05    46.23\n",
       "2017-05-04    45.55\n",
       "2017-03-27    47.02\n",
       "2017-03-23    47.00\n",
       "2017-03-22    47.29\n",
       "2017-03-21    47.02\n",
       "2017-03-14    47.24\n",
       "Name: oil_prices, dtype: float64"
      ]
     },
     "execution_count": 12,
     "metadata": {},
     "output_type": "execute_result"
    }
   ],
   "source": [
    "# 10 Lowest Price & Recent Date\n",
    "oil_series.sort_values().iloc[:10].sort_index(ascending=False)"
   ]
  },
  {
   "cell_type": "code",
   "execution_count": 13,
   "id": "9e52e4b2",
   "metadata": {},
   "outputs": [
    {
     "data": {
      "text/plain": [
       "2017-03-21    47.02\n",
       "2017-05-03    47.79\n",
       "Name: oil_prices, dtype: float64"
      ]
     },
     "execution_count": 13,
     "metadata": {},
     "output_type": "execute_result"
    }
   ],
   "source": [
    "dates = [\n",
    "    '2016-12-22',\n",
    "    '2017-05-03',\n",
    "    '2017-01-06',\n",
    "    '2017-03-05',\n",
    "    '2017-02-12',\n",
    "    '2017-03-21',\n",
    "    '2017-04-14',\n",
    "    '2017-04-15'\n",
    "]\n",
    "\n",
    "mask = (oil_series.index.isin(dates)) & (oil_series <= 50)\n",
    "oil_series.loc[mask]"
   ]
  },
  {
   "cell_type": "markdown",
   "id": "ab811795",
   "metadata": {},
   "source": [
    "# 📚 과제 4: Series 연산"
   ]
  },
  {
   "cell_type": "code",
   "execution_count": 14,
   "id": "77fbe062",
   "metadata": {},
   "outputs": [
    {
     "data": {
      "text/plain": [
       "2016-12-20    59.442\n",
       "2016-12-21    58.584\n",
       "2016-12-22    59.178\n",
       "2016-12-23    59.211\n",
       "2016-12-27    60.102\n",
       "               ...  \n",
       "2017-05-09    52.424\n",
       "2017-05-10    54.008\n",
       "2017-05-11    54.591\n",
       "2017-05-12    54.613\n",
       "2017-05-15    55.746\n",
       "Name: oil_prices, Length: 100, dtype: float64"
      ]
     },
     "execution_count": 14,
     "metadata": {},
     "output_type": "execute_result"
    }
   ],
   "source": [
    "# oil_series.mul(1.1).add(2)\n",
    "oil_series * 1.1 + 2"
   ]
  },
  {
   "cell_type": "code",
   "execution_count": 15,
   "id": "8dbdb4db",
   "metadata": {},
   "outputs": [
    {
     "data": {
      "text/plain": [
       "2016-12-20   -0.041483\n",
       "2016-12-21   -0.055800\n",
       "2016-12-22   -0.045888\n",
       "2016-12-23   -0.045338\n",
       "2016-12-27   -0.030470\n",
       "                ...   \n",
       "2017-05-09   -0.158590\n",
       "2017-05-10   -0.132159\n",
       "2017-05-11   -0.122430\n",
       "2017-05-12   -0.122063\n",
       "2017-05-15   -0.103157\n",
       "Name: oil_prices, Length: 100, dtype: float64"
      ]
     },
     "execution_count": 15,
     "metadata": {},
     "output_type": "execute_result"
    }
   ],
   "source": [
    "max_price = oil_series.max()\n",
    "\n",
    "(oil_series - max_price) / max_price"
   ]
  },
  {
   "cell_type": "code",
   "execution_count": 16,
   "id": "e1f0b4c2",
   "metadata": {},
   "outputs": [
    {
     "data": {
      "text/plain": [
       "0     12\n",
       "1     12\n",
       "2     12\n",
       "3     12\n",
       "4     12\n",
       "      ..\n",
       "95     5\n",
       "96     5\n",
       "97     5\n",
       "98     5\n",
       "99     5\n",
       "Length: 100, dtype: int64"
      ]
     },
     "execution_count": 16,
     "metadata": {},
     "output_type": "execute_result"
    }
   ],
   "source": [
    "month = oil_series.index.str[5:7].astype('int')\n",
    "pd.Series(month)"
   ]
  },
  {
   "cell_type": "markdown",
   "id": "2f174049",
   "metadata": {},
   "source": [
    "# 📚 과제 5: Series 집계 연산"
   ]
  },
  {
   "cell_type": "code",
   "execution_count": 17,
   "id": "f4ec197d",
   "metadata": {},
   "outputs": [
    {
     "data": {
      "text/plain": [
       "2016-12-20    52.22\n",
       "2016-12-21    51.44\n",
       "Name: oil_prices, dtype: float64"
      ]
     },
     "execution_count": 17,
     "metadata": {},
     "output_type": "execute_result"
    }
   ],
   "source": [
    "oil_series.head(2)"
   ]
  },
  {
   "cell_type": "code",
   "execution_count": 18,
   "id": "48ec82ef",
   "metadata": {},
   "outputs": [
    {
     "data": {
      "text/plain": [
       "1134.5399999999997"
      ]
     },
     "execution_count": 18,
     "metadata": {},
     "output_type": "execute_result"
    }
   ],
   "source": [
    "oil_series[oil_series.index.str[5:7] == '03'].sum()"
   ]
  },
  {
   "cell_type": "code",
   "execution_count": 19,
   "id": "89cd4ee1",
   "metadata": {},
   "outputs": [
    {
     "data": {
      "text/plain": [
       "49.32782608695651"
      ]
     },
     "execution_count": 19,
     "metadata": {},
     "output_type": "execute_result"
    }
   ],
   "source": [
    "oil_series[oil_series.index.str[5:7] == '03'].mean()"
   ]
  },
  {
   "cell_type": "code",
   "execution_count": 20,
   "id": "465cf9cd",
   "metadata": {},
   "outputs": [
    {
     "data": {
      "text/plain": [
       "39"
      ]
     },
     "execution_count": 20,
     "metadata": {},
     "output_type": "execute_result"
    }
   ],
   "source": [
    "oil_series[oil_series.index.str[5:7].isin(['01', '02'])].count()"
   ]
  },
  {
   "cell_type": "code",
   "execution_count": 21,
   "id": "fd15e098",
   "metadata": {},
   "outputs": [
    {
     "data": {
      "text/plain": [
       "0.1    47.299\n",
       "0.9    53.811\n",
       "Name: oil_prices, dtype: float64"
      ]
     },
     "execution_count": 21,
     "metadata": {},
     "output_type": "execute_result"
    }
   ],
   "source": [
    "oil_series.quantile([.1, .9])"
   ]
  },
  {
   "cell_type": "code",
   "execution_count": 22,
   "id": "b1d63e8d",
   "metadata": {},
   "outputs": [
    {
     "data": {
      "text/plain": [
       "53    0.26\n",
       "52    0.22\n",
       "47    0.13\n",
       "48    0.10\n",
       "51    0.07\n",
       "50    0.07\n",
       "49    0.06\n",
       "54    0.05\n",
       "45    0.02\n",
       "46    0.02\n",
       "Name: oil_prices, dtype: float64"
      ]
     },
     "execution_count": 22,
     "metadata": {},
     "output_type": "execute_result"
    }
   ],
   "source": [
    "oil_series.astype('int').value_counts(normalize=True)"
   ]
  },
  {
   "cell_type": "markdown",
   "id": "47de78cb",
   "metadata": {},
   "source": [
    "# 📚 과제 6: Series 결측값"
   ]
  },
  {
   "cell_type": "code",
   "execution_count": 23,
   "id": "2457d26c",
   "metadata": {},
   "outputs": [
    {
     "data": {
      "text/plain": [
       "2016-12-20    52.22\n",
       "2016-12-21      NaN\n",
       "2016-12-22    51.98\n",
       "2016-12-23    52.01\n",
       "2016-12-27    52.82\n",
       "              ...  \n",
       "2017-05-09    45.84\n",
       "2017-05-10    47.28\n",
       "2017-05-11    47.81\n",
       "2017-05-12      NaN\n",
       "2017-05-15    48.86\n",
       "Name: oil_prices, Length: 100, dtype: float64"
      ]
     },
     "execution_count": 23,
     "metadata": {},
     "output_type": "execute_result"
    }
   ],
   "source": [
    "oil_series = oil_series.where(~oil_series.isin([51.44, 47.83]), np.NaN)\n",
    "oil_series"
   ]
  },
  {
   "cell_type": "code",
   "execution_count": 24,
   "id": "88f859b4",
   "metadata": {},
   "outputs": [
    {
     "data": {
      "text/plain": [
       "2"
      ]
     },
     "execution_count": 24,
     "metadata": {},
     "output_type": "execute_result"
    }
   ],
   "source": [
    "# 결측값 개수\n",
    "oil_series.isna().sum()"
   ]
  },
  {
   "cell_type": "code",
   "execution_count": 25,
   "id": "40b9bfa6",
   "metadata": {},
   "outputs": [
    {
     "data": {
      "text/plain": [
       "2016-12-20    52.220\n",
       "2016-12-21    52.205\n",
       "2016-12-22    51.980\n",
       "2016-12-23    52.010\n",
       "2016-12-27    52.820\n",
       "               ...  \n",
       "2017-05-09    45.840\n",
       "2017-05-10    47.280\n",
       "2017-05-11    47.810\n",
       "2017-05-12    52.205\n",
       "2017-05-15    48.860\n",
       "Name: oil_prices, Length: 100, dtype: float64"
      ]
     },
     "execution_count": 25,
     "metadata": {},
     "output_type": "execute_result"
    }
   ],
   "source": [
    "oil_series.fillna(oil_series.median())"
   ]
  }
 ],
 "metadata": {
  "kernelspec": {
   "display_name": "Python 3 (ipykernel)",
   "language": "python",
   "name": "python3"
  },
  "language_info": {
   "codemirror_mode": {
    "name": "ipython",
    "version": 3
   },
   "file_extension": ".py",
   "mimetype": "text/x-python",
   "name": "python",
   "nbconvert_exporter": "python",
   "pygments_lexer": "ipython3",
   "version": "3.10.9"
  }
 },
 "nbformat": 4,
 "nbformat_minor": 5
}
