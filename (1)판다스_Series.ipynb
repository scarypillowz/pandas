{
 "cells": [
  {
   "cell_type": "markdown",
   "id": "4a132755",
   "metadata": {},
   "source": [
    "# 🚩 Series에 대해서\n",
    "## 주요 토픽\n",
    "1. Pandas Series Basics\n",
    "2. 인덱싱\n",
    "3. 정렬과 필터링\n",
    "4. 연산과 집계\n",
    "5. 결측값 처리\n",
    "6. 커스텀 함수 적용\n",
    "## 목표\n",
    "- Series와 넘파이 배열의 관계 이해하기\n",
    "- Series의 loc, iloc 메서드 사용해서 값 조회하기\n",
    "- Series의 정렬/필터링/집계 기능 사용하기\n",
    "- Series에 조건부 로직을 사용하는 커스텀 함수 적용하기"
   ]
  },
  {
   "cell_type": "code",
   "execution_count": 1,
   "id": "71ca31e1",
   "metadata": {},
   "outputs": [],
   "source": [
    "import numpy as np\n",
    "import pandas as pd"
   ]
  },
  {
   "cell_type": "markdown",
   "id": "5b2f3988",
   "metadata": {},
   "source": [
    "## 1. Series란?\n",
    "- 넘파이 배열에 기반한 판다스 자료구조이다.\n",
    "- 2개 이상의 Series가 모이면 데이터프레임을 구성한다.\n",
    "- 반드시 1차원 배열 형태여야 한다.\n",
    "### > 속성\n",
    "1. values (Series의 데이터)\n",
    "2. index (Series의 인덱스)\n",
    "3. name (데이터프레임 열에 접근할 때 유용)\n",
    "4. dtype (values array에 들어있는 데이터들의 타입)"
   ]
  },
  {
   "cell_type": "code",
   "execution_count": 2,
   "id": "7589215c",
   "metadata": {},
   "outputs": [
    {
     "data": {
      "text/plain": [
       "0       0\n",
       "1       5\n",
       "2     155\n",
       "3       0\n",
       "4     518\n",
       "5       0\n",
       "6    1827\n",
       "Name: Sales, dtype: int64"
      ]
     },
     "execution_count": 2,
     "metadata": {},
     "output_type": "execute_result"
    }
   ],
   "source": [
    "sales = [0, 5, 155, 0, 518, 0, 1827]\n",
    "sales_series = pd.Series(sales, name='Sales')\n",
    "sales_series"
   ]
  },
  {
   "cell_type": "code",
   "execution_count": 3,
   "id": "5dba89a1",
   "metadata": {},
   "outputs": [
    {
     "name": "stdout",
     "output_type": "stream",
     "text": [
      "values:  [   0    5  155    0  518    0 1827]\n",
      "index:  RangeIndex(start=0, stop=7, step=1)\n",
      "name:  Sales\n",
      "dtype:  int64\n"
     ]
    }
   ],
   "source": [
    "# 속성\n",
    "print('values: ', sales_series.values)\n",
    "print('index: ', sales_series.index)\n",
    "print('name: ', sales_series.name)\n",
    "print('dtype: ', sales_series.dtype)"
   ]
  },
  {
   "cell_type": "markdown",
   "id": "8fba2c65",
   "metadata": {},
   "source": [
    "## 2. 판다스 데이터 타입\n",
    "### > Numeric\n",
    "1. boolean - Nullable boolean True(1)/False(0)\n",
    "2. Int64(디폴트) - Nullable whole numbers\n",
    "3. Float64(디폴트) - Nullable decimal numbers\n",
    "### > Object/Text\n",
    "1. string\n",
    "2. category - \n",
    "### > Time Series\n",
    "1. datetime64 - Single moment in time\n",
    "2. timedelta - Duration between two dates or times\n",
    "3. period - Span of time"
   ]
  },
  {
   "cell_type": "code",
   "execution_count": null,
   "id": "f7207557",
   "metadata": {},
   "outputs": [],
   "source": []
  }
 ],
 "metadata": {
  "kernelspec": {
   "display_name": "Python 3 (ipykernel)",
   "language": "python",
   "name": "python3"
  },
  "language_info": {
   "codemirror_mode": {
    "name": "ipython",
    "version": 3
   },
   "file_extension": ".py",
   "mimetype": "text/x-python",
   "name": "python",
   "nbconvert_exporter": "python",
   "pygments_lexer": "ipython3",
   "version": "3.10.9"
  }
 },
 "nbformat": 4,
 "nbformat_minor": 5
}
