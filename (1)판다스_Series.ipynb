{
 "cells": [
  {
   "cell_type": "markdown",
   "id": "727ac816",
   "metadata": {},
   "source": [
    "# 🚩 Series에 대해서\n",
    "## 주요 토픽\n",
    "1. Pandas Series Basics\n",
    "2. 인덱싱\n",
    "3. 정렬과 필터링\n",
    "4. 연산과 집계\n",
    "5. 결측값 처리\n",
    "6. 커스텀 함수 적용\n",
    "## 목표\n",
    "- Series와 넘파이 배열의 관계 이해하기\n",
    "- Series의 loc, iloc 메서드 사용해서 값 조회하기\n",
    "- Series의 정렬/필터링/집계 기능 사용하기\n",
    "- Series에 조건부 로직을 사용하는 커스텀 함수 적용하기"
   ]
  },
  {
   "cell_type": "code",
   "execution_count": 1,
   "id": "12890fe2",
   "metadata": {},
   "outputs": [],
   "source": [
    "import numpy as np\n",
    "import pandas as pd"
   ]
  },
  {
   "cell_type": "markdown",
   "id": "68dbe89e",
   "metadata": {},
   "source": [
    "## 1. Series란?\n",
    "- 넘파이 배열에 기반한 판다스 자료구조이다.\n",
    "- 2개 이상의 Series가 모이면 데이터프레임을 구성한다.\n",
    "- 반드시 1차원 배열 형태여야 한다.\n",
    "### > 속성\n",
    "1. values (Series의 데이터)\n",
    "2. index (Series의 인덱스)\n",
    "3. name (데이터프레임 열에 접근할 때 유용)\n",
    "4. dtype (values array에 들어있는 데이터들의 타입)"
   ]
  },
  {
   "cell_type": "code",
   "execution_count": 2,
   "id": "b58e45c9",
   "metadata": {},
   "outputs": [
    {
     "data": {
      "text/plain": [
       "0       0\n",
       "1       5\n",
       "2     155\n",
       "3       0\n",
       "4     518\n",
       "5       0\n",
       "6    1827\n",
       "Name: Sales, dtype: int64"
      ]
     },
     "execution_count": 2,
     "metadata": {},
     "output_type": "execute_result"
    }
   ],
   "source": [
    "sales = [0, 5, 155, 0, 518, 0, 1827]\n",
    "sales_series = pd.Series(sales, name='Sales')\n",
    "sales_series"
   ]
  },
  {
   "cell_type": "code",
   "execution_count": 3,
   "id": "db9b4041",
   "metadata": {},
   "outputs": [
    {
     "name": "stdout",
     "output_type": "stream",
     "text": [
      "values:  [   0    5  155    0  518    0 1827]\n",
      "index:  RangeIndex(start=0, stop=7, step=1)\n",
      "name:  Sales\n",
      "dtype:  int64\n"
     ]
    }
   ],
   "source": [
    "# 속성\n",
    "print('values: ', sales_series.values)\n",
    "print('index: ', sales_series.index)\n",
    "print('name: ', sales_series.name)\n",
    "print('dtype: ', sales_series.dtype)"
   ]
  },
  {
   "cell_type": "markdown",
   "id": "8e317ab4",
   "metadata": {},
   "source": [
    "## 2. 판다스 데이터 타입\n",
    "### > Numeric\n",
    "1. boolean - Nullable boolean True(1)/False(0)\n",
    "2. Int64(디폴트) - Nullable whole numbers\n",
    "3. Float64(디폴트) - Nullable decimal numbers\n",
    "### > Object/Text\n",
    "1. string\n",
    "2. category - \n",
    "### > Time Series\n",
    "1. datetime64 - Single moment in time\n",
    "2. timedelta - Duration between two dates or times\n",
    "3. period - Span of time"
   ]
  },
  {
   "cell_type": "markdown",
   "id": "96bd739e",
   "metadata": {},
   "source": [
    "## 3. Series 인덱싱\n",
    "### > 일반적인 인덱싱\n",
    "- 파이썬 리스트와 넘파이식 인덱싱/슬라이싱을 통해 값에 대한 접근이 가능하다\n",
    "### > 커스텀 인덱싱\n",
    "- Series를 생성하면서 index 매개변수를 사용하는 방법이다\n",
    "- ✅ 문자열 인덱스인 경우 슬라이싱 범위상 끝점을 포함한다\n",
    "- ✅ datetimes 사용할 때 유용하다"
   ]
  },
  {
   "cell_type": "code",
   "execution_count": 4,
   "id": "3dd4c52f",
   "metadata": {},
   "outputs": [
    {
     "data": {
      "text/plain": [
       "coffee       0\n",
       "banana       5\n",
       "tea        155\n",
       "coconut      0\n",
       "sugar      518\n",
       "Name: Sales, dtype: int64"
      ]
     },
     "execution_count": 4,
     "metadata": {},
     "output_type": "execute_result"
    }
   ],
   "source": [
    "# 커스텀 인덱싱\n",
    "sales = [0, 5, 155, 0, 518]\n",
    "items = ['coffee', 'banana', 'tea', 'coconut', 'sugar']\n",
    "\n",
    "# sales_series = pd.Series(sales, name='Sales')\n",
    "# sales_series.index = items\n",
    "# sales_series\n",
    "\n",
    "sales_series = pd.Series(sales, index=items, name='Sales')\n",
    "sales_series"
   ]
  },
  {
   "cell_type": "code",
   "execution_count": 5,
   "id": "6ed9b1b0",
   "metadata": {},
   "outputs": [
    {
     "data": {
      "text/plain": [
       "banana       5\n",
       "tea        155\n",
       "coconut      0\n",
       "Name: Sales, dtype: int64"
      ]
     },
     "execution_count": 5,
     "metadata": {},
     "output_type": "execute_result"
    }
   ],
   "source": [
    "# 커스텀 인덱싱\n",
    "sales_series['banana':'coconut']"
   ]
  },
  {
   "cell_type": "markdown",
   "id": "1a890f18",
   "metadata": {},
   "source": [
    "### > iloc 접근자\n",
    "- 대상값이 위치하고 있는 인덱스를 사용해 값에 대한 접근이 가능하다\n",
    "    - access values by their positional index\n",
    "    - 커스텀 인덱스를 설정하더라도 사용이 가능하다\n",
    "    - 슬라이싱 보다 효율적이며 판다스 개발자들이 권장하는 방법이다\n",
    "- loc 접근자보다는 덜 자주 사용한다."
   ]
  },
  {
   "cell_type": "code",
   "execution_count": 6,
   "id": "b7f74a2c",
   "metadata": {},
   "outputs": [
    {
     "data": {
      "text/plain": [
       "day 0    0\n",
       "day 1    1\n",
       "day 2    2\n",
       "day 3    3\n",
       "day 4    4\n",
       "dtype: int64"
      ]
     },
     "execution_count": 6,
     "metadata": {},
     "output_type": "execute_result"
    }
   ],
   "source": [
    "my_series = pd.Series(\n",
    "    [0, 1, 2, 3, 4], index=['day 0', 'day 1', 'day 2', 'day 3', 'day 4']\n",
    ")\n",
    "my_series"
   ]
  },
  {
   "cell_type": "code",
   "execution_count": 7,
   "id": "6bd3f0f8",
   "metadata": {},
   "outputs": [
    {
     "data": {
      "text/plain": [
       "2"
      ]
     },
     "execution_count": 7,
     "metadata": {},
     "output_type": "execute_result"
    }
   ],
   "source": [
    "my_series.iloc[2]"
   ]
  },
  {
   "cell_type": "code",
   "execution_count": 8,
   "id": "e99936f2",
   "metadata": {},
   "outputs": [
    {
     "data": {
      "text/plain": [
       "day 1    1\n",
       "day 4    4\n",
       "dtype: int64"
      ]
     },
     "execution_count": 8,
     "metadata": {},
     "output_type": "execute_result"
    }
   ],
   "source": [
    "my_series.iloc[[1, 4]]"
   ]
  },
  {
   "cell_type": "code",
   "execution_count": 9,
   "id": "afd2e40f",
   "metadata": {},
   "outputs": [
    {
     "data": {
      "text/plain": [
       "day 1    1\n",
       "day 2    2\n",
       "day 3    3\n",
       "day 4    4\n",
       "dtype: int64"
      ]
     },
     "execution_count": 9,
     "metadata": {},
     "output_type": "execute_result"
    }
   ],
   "source": [
    "my_series.iloc[1:]"
   ]
  },
  {
   "cell_type": "markdown",
   "id": "eea73fb0",
   "metadata": {},
   "source": [
    "### > loc 접근자\n",
    "- 커스텀 레이블을 사용해 값에 대한 접근이 가능하다\n",
    "    - Label-base (NOT positional index)\n",
    "- iloc 접근자보다 자주 사용한다"
   ]
  },
  {
   "cell_type": "code",
   "execution_count": 10,
   "id": "cae2a9e5",
   "metadata": {},
   "outputs": [
    {
     "data": {
      "text/plain": [
       "day 0    0\n",
       "day 1    1\n",
       "day 2    2\n",
       "day 3    3\n",
       "day 4    4\n",
       "dtype: int64"
      ]
     },
     "execution_count": 10,
     "metadata": {},
     "output_type": "execute_result"
    }
   ],
   "source": [
    "my_series = pd.Series(\n",
    "    [0, 1, 2, 3, 4], index=['day 0', 'day 1', 'day 2', 'day 3', 'day 4']\n",
    ")\n",
    "my_series"
   ]
  },
  {
   "cell_type": "code",
   "execution_count": 11,
   "id": "232f1b92",
   "metadata": {},
   "outputs": [
    {
     "data": {
      "text/plain": [
       "2"
      ]
     },
     "execution_count": 11,
     "metadata": {},
     "output_type": "execute_result"
    }
   ],
   "source": [
    "my_series.loc['day 2']"
   ]
  },
  {
   "cell_type": "code",
   "execution_count": 12,
   "id": "ab944697",
   "metadata": {},
   "outputs": [
    {
     "data": {
      "text/plain": [
       "day 1    1\n",
       "day 2    2\n",
       "day 3    3\n",
       "dtype: int64"
      ]
     },
     "execution_count": 12,
     "metadata": {},
     "output_type": "execute_result"
    }
   ],
   "source": [
    "# 양끝 범위를 포함\n",
    "my_series.loc['day 1':'day 3']"
   ]
  },
  {
   "cell_type": "markdown",
   "id": "78d2acd4",
   "metadata": {},
   "source": [
    "### > 중복 인덱스\n",
    "- 판다스 Series나 DataFrame은 중복 인덱스를 가질 수 있다\n",
    "    - loc 접근자로 중복 인덱스를 사용하면 중복되는 값들에 대해 모두 접근한다\n",
    "    - Which is NOT desirable → 고유 인덱스를 갖도록 설정해야 한다\n",
    "    - Must have unique row identifier\n",
    "### > 인덱스 재설정\n",
    "- reset_index 메서드 (디폴트로 리셋 전 인덱스는 데이터프레임의 새로운 컬럼이 된다)"
   ]
  },
  {
   "cell_type": "code",
   "execution_count": 13,
   "id": "0b9ebfff",
   "metadata": {},
   "outputs": [
    {
     "data": {
      "text/plain": [
       "Index(['day 0', 'day 0', 'day 0', 'day 2', 'day 2'], dtype='object')"
      ]
     },
     "execution_count": 13,
     "metadata": {},
     "output_type": "execute_result"
    }
   ],
   "source": [
    "my_series = pd.Series(\n",
    "    [0, 1, 2, 3, 4],\n",
    "    index=['day 0', 'day 0', 'day 0', 'day 2', 'day 2']\n",
    ")\n",
    "my_series.index"
   ]
  },
  {
   "cell_type": "code",
   "execution_count": 14,
   "id": "a2e67f3f",
   "metadata": {},
   "outputs": [
    {
     "data": {
      "text/plain": [
       "day 0    0\n",
       "day 0    1\n",
       "day 0    2\n",
       "dtype: int64"
      ]
     },
     "execution_count": 14,
     "metadata": {},
     "output_type": "execute_result"
    }
   ],
   "source": [
    "my_series.loc['day 0']"
   ]
  },
  {
   "cell_type": "code",
   "execution_count": 15,
   "id": "aed82066",
   "metadata": {},
   "outputs": [
    {
     "data": {
      "text/plain": [
       "day 2    3\n",
       "day 2    4\n",
       "dtype: int64"
      ]
     },
     "execution_count": 15,
     "metadata": {},
     "output_type": "execute_result"
    }
   ],
   "source": [
    "my_series.loc['day 2']"
   ]
  },
  {
   "cell_type": "code",
   "execution_count": 16,
   "id": "146f8700",
   "metadata": {},
   "outputs": [
    {
     "data": {
      "text/html": [
       "<div>\n",
       "<style scoped>\n",
       "    .dataframe tbody tr th:only-of-type {\n",
       "        vertical-align: middle;\n",
       "    }\n",
       "\n",
       "    .dataframe tbody tr th {\n",
       "        vertical-align: top;\n",
       "    }\n",
       "\n",
       "    .dataframe thead th {\n",
       "        text-align: right;\n",
       "    }\n",
       "</style>\n",
       "<table border=\"1\" class=\"dataframe\">\n",
       "  <thead>\n",
       "    <tr style=\"text-align: right;\">\n",
       "      <th></th>\n",
       "      <th>index</th>\n",
       "      <th>0</th>\n",
       "    </tr>\n",
       "  </thead>\n",
       "  <tbody>\n",
       "    <tr>\n",
       "      <th>0</th>\n",
       "      <td>day 0</td>\n",
       "      <td>0</td>\n",
       "    </tr>\n",
       "    <tr>\n",
       "      <th>1</th>\n",
       "      <td>day 0</td>\n",
       "      <td>1</td>\n",
       "    </tr>\n",
       "    <tr>\n",
       "      <th>2</th>\n",
       "      <td>day 0</td>\n",
       "      <td>2</td>\n",
       "    </tr>\n",
       "    <tr>\n",
       "      <th>3</th>\n",
       "      <td>day 2</td>\n",
       "      <td>3</td>\n",
       "    </tr>\n",
       "    <tr>\n",
       "      <th>4</th>\n",
       "      <td>day 2</td>\n",
       "      <td>4</td>\n",
       "    </tr>\n",
       "  </tbody>\n",
       "</table>\n",
       "</div>"
      ],
      "text/plain": [
       "   index  0\n",
       "0  day 0  0\n",
       "1  day 0  1\n",
       "2  day 0  2\n",
       "3  day 2  3\n",
       "4  day 2  4"
      ]
     },
     "execution_count": 16,
     "metadata": {},
     "output_type": "execute_result"
    }
   ],
   "source": [
    "# 기존 인덱스 열이 데이터프레임의 새로운 열을 구성한다.\n",
    "my_series.reset_index()"
   ]
  },
  {
   "cell_type": "code",
   "execution_count": 17,
   "id": "2288a051",
   "metadata": {},
   "outputs": [
    {
     "data": {
      "text/plain": [
       "0    0\n",
       "1    1\n",
       "2    2\n",
       "3    3\n",
       "4    4\n",
       "dtype: int64"
      ]
     },
     "execution_count": 17,
     "metadata": {},
     "output_type": "execute_result"
    }
   ],
   "source": [
    "my_series.reset_index(drop=True)"
   ]
  },
  {
   "cell_type": "code",
   "execution_count": 18,
   "id": "2b58c49e",
   "metadata": {},
   "outputs": [
    {
     "data": {
      "text/plain": [
       "2    2\n",
       "3    3\n",
       "dtype: int64"
      ]
     },
     "execution_count": 18,
     "metadata": {},
     "output_type": "execute_result"
    }
   ],
   "source": [
    "my_series.reset_index(drop=True).iloc[2:4]"
   ]
  },
  {
   "cell_type": "code",
   "execution_count": 19,
   "id": "aaf487dc",
   "metadata": {},
   "outputs": [
    {
     "data": {
      "text/plain": [
       "2    2\n",
       "3    3\n",
       "4    4\n",
       "dtype: int64"
      ]
     },
     "execution_count": 19,
     "metadata": {},
     "output_type": "execute_result"
    }
   ],
   "source": [
    "# iloc 접근자와의 차이점 (끝점을 포함한다)\n",
    "my_series.reset_index(drop=True).loc[2:4]"
   ]
  }
 ],
 "metadata": {
  "kernelspec": {
   "display_name": "Python 3 (ipykernel)",
   "language": "python",
   "name": "python3"
  },
  "language_info": {
   "codemirror_mode": {
    "name": "ipython",
    "version": 3
   },
   "file_extension": ".py",
   "mimetype": "text/x-python",
   "name": "python",
   "nbconvert_exporter": "python",
   "pygments_lexer": "ipython3",
   "version": "3.10.9"
  }
 },
 "nbformat": 4,
 "nbformat_minor": 5
}
